{
 "cells": [
  {
   "cell_type": "code",
   "execution_count": 1,
   "metadata": {},
   "outputs": [],
   "source": [
    "import pandas as pd\n",
    "import os\n",
    "import datetime"
   ]
  },
  {
   "cell_type": "code",
   "execution_count": 2,
   "metadata": {},
   "outputs": [],
   "source": [
    "my_path = '/Users/texiagonzalezcaceres/Desktop/test_destacame/data'"
   ]
  },
  {
   "cell_type": "code",
   "execution_count": 3,
   "metadata": {},
   "outputs": [
    {
     "name": "stdout",
     "output_type": "stream",
     "text": [
      "['quotation_activity.csv', '.DS_Store', 'df_report.csv', 'payment_offer.csv', 'financial_profile.csv', 'accounts_profile.csv']\n"
     ]
    }
   ],
   "source": [
    "print(os.listdir(my_path))"
   ]
  },
  {
   "cell_type": "code",
   "execution_count": 4,
   "metadata": {},
   "outputs": [],
   "source": [
    "df_accounts_profile = pd.read_csv('/Users/texiagonzalezcaceres/Desktop/test_destacame/data/accounts_profile.csv')\n",
    "df_financial_profile = pd.read_csv('/Users/texiagonzalezcaceres/Desktop/test_destacame/data/financial_profile.csv')\n",
    "df_quotation_activity = pd.read_csv('/Users/texiagonzalezcaceres/Desktop/test_destacame/data/quotation_activity.csv')\n",
    "df_payment_offer = pd.read_csv('/Users/texiagonzalezcaceres/Desktop/test_destacame/data/payment_offer.csv')"
   ]
  },
  {
   "cell_type": "code",
   "execution_count": 5,
   "metadata": {},
   "outputs": [],
   "source": [
    "df_accounts_profile.fillna(0, inplace=True)\n",
    "df_financial_profile.fillna(0, inplace=True)\n",
    "df_quotation_activity.fillna(0, inplace=True)\n",
    "df_payment_offer.fillna(0, inplace=True)"
   ]
  },
  {
   "cell_type": "code",
   "execution_count": 6,
   "metadata": {},
   "outputs": [
    {
     "data": {
      "text/html": [
       "<div>\n",
       "<style scoped>\n",
       "    .dataframe tbody tr th:only-of-type {\n",
       "        vertical-align: middle;\n",
       "    }\n",
       "\n",
       "    .dataframe tbody tr th {\n",
       "        vertical-align: top;\n",
       "    }\n",
       "\n",
       "    .dataframe thead th {\n",
       "        text-align: right;\n",
       "    }\n",
       "</style>\n",
       "<table border=\"1\" class=\"dataframe\">\n",
       "  <thead>\n",
       "    <tr style=\"text-align: right;\">\n",
       "      <th></th>\n",
       "      <th>id</th>\n",
       "      <th>birthday</th>\n",
       "      <th>gender</th>\n",
       "      <th>country_id</th>\n",
       "      <th>date_joined</th>\n",
       "      <th>last_login</th>\n",
       "    </tr>\n",
       "  </thead>\n",
       "  <tbody>\n",
       "    <tr>\n",
       "      <th>0</th>\n",
       "      <td>3073478</td>\n",
       "      <td>1985-04-27</td>\n",
       "      <td>f</td>\n",
       "      <td>1.0</td>\n",
       "      <td>2018-10-06 20:48:00</td>\n",
       "      <td>2018-10-06 23:48:01</td>\n",
       "    </tr>\n",
       "    <tr>\n",
       "      <th>1</th>\n",
       "      <td>3073481</td>\n",
       "      <td>0</td>\n",
       "      <td>0</td>\n",
       "      <td>2.0</td>\n",
       "      <td>2018-10-06 20:55:08</td>\n",
       "      <td>2018-10-07 11:57:43</td>\n",
       "    </tr>\n",
       "    <tr>\n",
       "      <th>2</th>\n",
       "      <td>3073484</td>\n",
       "      <td>1983-01-06</td>\n",
       "      <td>m</td>\n",
       "      <td>1.0</td>\n",
       "      <td>2018-10-06 20:55:20</td>\n",
       "      <td>2018-10-06 23:56:43</td>\n",
       "    </tr>\n",
       "    <tr>\n",
       "      <th>3</th>\n",
       "      <td>3073487</td>\n",
       "      <td>1991-09-07</td>\n",
       "      <td>m</td>\n",
       "      <td>1.0</td>\n",
       "      <td>2018-10-06 20:58:03</td>\n",
       "      <td>2018-10-06 23:58:03</td>\n",
       "    </tr>\n",
       "  </tbody>\n",
       "</table>\n",
       "</div>"
      ],
      "text/plain": [
       "        id    birthday gender  country_id          date_joined  \\\n",
       "0  3073478  1985-04-27      f         1.0  2018-10-06 20:48:00   \n",
       "1  3073481           0      0         2.0  2018-10-06 20:55:08   \n",
       "2  3073484  1983-01-06      m         1.0  2018-10-06 20:55:20   \n",
       "3  3073487  1991-09-07      m         1.0  2018-10-06 20:58:03   \n",
       "\n",
       "            last_login  \n",
       "0  2018-10-06 23:48:01  \n",
       "1  2018-10-07 11:57:43  \n",
       "2  2018-10-06 23:56:43  \n",
       "3  2018-10-06 23:58:03  "
      ]
     },
     "execution_count": 6,
     "metadata": {},
     "output_type": "execute_result"
    }
   ],
   "source": [
    "df_accounts_profile.head(4)"
   ]
  },
  {
   "cell_type": "code",
   "execution_count": 7,
   "metadata": {},
   "outputs": [
    {
     "data": {
      "text/html": [
       "<div>\n",
       "<style scoped>\n",
       "    .dataframe tbody tr th:only-of-type {\n",
       "        vertical-align: middle;\n",
       "    }\n",
       "\n",
       "    .dataframe tbody tr th {\n",
       "        vertical-align: top;\n",
       "    }\n",
       "\n",
       "    .dataframe thead th {\n",
       "        text-align: right;\n",
       "    }\n",
       "</style>\n",
       "<table border=\"1\" class=\"dataframe\">\n",
       "  <thead>\n",
       "    <tr style=\"text-align: right;\">\n",
       "      <th></th>\n",
       "      <th>user_id</th>\n",
       "      <th>salary</th>\n",
       "      <th>seniority</th>\n",
       "      <th>employment_status</th>\n",
       "      <th>has_checking_account</th>\n",
       "      <th>entry</th>\n",
       "    </tr>\n",
       "  </thead>\n",
       "  <tbody>\n",
       "    <tr>\n",
       "      <th>0</th>\n",
       "      <td>3073478</td>\n",
       "      <td>0.0</td>\n",
       "      <td>-1</td>\n",
       "      <td>0</td>\n",
       "      <td>0</td>\n",
       "      <td>0</td>\n",
       "    </tr>\n",
       "    <tr>\n",
       "      <th>1</th>\n",
       "      <td>3073487</td>\n",
       "      <td>0.0</td>\n",
       "      <td>-1</td>\n",
       "      <td>0</td>\n",
       "      <td>0</td>\n",
       "      <td>0</td>\n",
       "    </tr>\n",
       "    <tr>\n",
       "      <th>2</th>\n",
       "      <td>3073490</td>\n",
       "      <td>0.0</td>\n",
       "      <td>-1</td>\n",
       "      <td>0</td>\n",
       "      <td>0</td>\n",
       "      <td>0</td>\n",
       "    </tr>\n",
       "    <tr>\n",
       "      <th>3</th>\n",
       "      <td>3073496</td>\n",
       "      <td>0.0</td>\n",
       "      <td>-1</td>\n",
       "      <td>0</td>\n",
       "      <td>0</td>\n",
       "      <td>0</td>\n",
       "    </tr>\n",
       "  </tbody>\n",
       "</table>\n",
       "</div>"
      ],
      "text/plain": [
       "   user_id  salary  seniority employment_status  has_checking_account  entry\n",
       "0  3073478     0.0         -1                 0                     0      0\n",
       "1  3073487     0.0         -1                 0                     0      0\n",
       "2  3073490     0.0         -1                 0                     0      0\n",
       "3  3073496     0.0         -1                 0                     0      0"
      ]
     },
     "execution_count": 7,
     "metadata": {},
     "output_type": "execute_result"
    }
   ],
   "source": [
    "df_financial_profile.head(4)"
   ]
  },
  {
   "cell_type": "code",
   "execution_count": 8,
   "metadata": {},
   "outputs": [
    {
     "data": {
      "text/html": [
       "<div>\n",
       "<style scoped>\n",
       "    .dataframe tbody tr th:only-of-type {\n",
       "        vertical-align: middle;\n",
       "    }\n",
       "\n",
       "    .dataframe tbody tr th {\n",
       "        vertical-align: top;\n",
       "    }\n",
       "\n",
       "    .dataframe thead th {\n",
       "        text-align: right;\n",
       "    }\n",
       "</style>\n",
       "<table border=\"1\" class=\"dataframe\">\n",
       "  <thead>\n",
       "    <tr style=\"text-align: right;\">\n",
       "      <th></th>\n",
       "      <th>user_id</th>\n",
       "      <th>product</th>\n",
       "      <th>created</th>\n",
       "    </tr>\n",
       "  </thead>\n",
       "  <tbody>\n",
       "    <tr>\n",
       "      <th>0</th>\n",
       "      <td>568997</td>\n",
       "      <td>99</td>\n",
       "      <td>2018-10-06 21:03:08</td>\n",
       "    </tr>\n",
       "    <tr>\n",
       "      <th>1</th>\n",
       "      <td>2457644</td>\n",
       "      <td>31</td>\n",
       "      <td>2018-10-06 21:03:47</td>\n",
       "    </tr>\n",
       "    <tr>\n",
       "      <th>2</th>\n",
       "      <td>3071309</td>\n",
       "      <td>107</td>\n",
       "      <td>2018-10-06 21:12:13</td>\n",
       "    </tr>\n",
       "    <tr>\n",
       "      <th>3</th>\n",
       "      <td>3059822</td>\n",
       "      <td>116</td>\n",
       "      <td>2018-10-06 21:28:28</td>\n",
       "    </tr>\n",
       "  </tbody>\n",
       "</table>\n",
       "</div>"
      ],
      "text/plain": [
       "   user_id  product              created\n",
       "0   568997       99  2018-10-06 21:03:08\n",
       "1  2457644       31  2018-10-06 21:03:47\n",
       "2  3071309      107  2018-10-06 21:12:13\n",
       "3  3059822      116  2018-10-06 21:28:28"
      ]
     },
     "execution_count": 8,
     "metadata": {},
     "output_type": "execute_result"
    }
   ],
   "source": [
    "df_quotation_activity.head(4)"
   ]
  },
  {
   "cell_type": "code",
   "execution_count": 9,
   "metadata": {},
   "outputs": [
    {
     "data": {
      "text/html": [
       "<div>\n",
       "<style scoped>\n",
       "    .dataframe tbody tr th:only-of-type {\n",
       "        vertical-align: middle;\n",
       "    }\n",
       "\n",
       "    .dataframe tbody tr th {\n",
       "        vertical-align: top;\n",
       "    }\n",
       "\n",
       "    .dataframe thead th {\n",
       "        text-align: right;\n",
       "    }\n",
       "</style>\n",
       "<table border=\"1\" class=\"dataframe\">\n",
       "  <thead>\n",
       "    <tr style=\"text-align: right;\">\n",
       "      <th></th>\n",
       "      <th>user_id</th>\n",
       "      <th>product</th>\n",
       "      <th>created</th>\n",
       "    </tr>\n",
       "  </thead>\n",
       "  <tbody>\n",
       "    <tr>\n",
       "      <th>0</th>\n",
       "      <td>492230</td>\n",
       "      <td>total_payment</td>\n",
       "      <td>2018-10-06 22:24:59.961338</td>\n",
       "    </tr>\n",
       "    <tr>\n",
       "      <th>1</th>\n",
       "      <td>3073430</td>\n",
       "      <td>total_payment</td>\n",
       "      <td>2018-10-06 23:20:09.566285</td>\n",
       "    </tr>\n",
       "    <tr>\n",
       "      <th>2</th>\n",
       "      <td>2064071</td>\n",
       "      <td>total_payment</td>\n",
       "      <td>2018-10-06 23:35:40.316639</td>\n",
       "    </tr>\n",
       "    <tr>\n",
       "      <th>3</th>\n",
       "      <td>733463</td>\n",
       "      <td>total_payment</td>\n",
       "      <td>2018-10-06 23:49:11.094730</td>\n",
       "    </tr>\n",
       "  </tbody>\n",
       "</table>\n",
       "</div>"
      ],
      "text/plain": [
       "   user_id        product                     created\n",
       "0   492230  total_payment  2018-10-06 22:24:59.961338\n",
       "1  3073430  total_payment  2018-10-06 23:20:09.566285\n",
       "2  2064071  total_payment  2018-10-06 23:35:40.316639\n",
       "3   733463  total_payment  2018-10-06 23:49:11.094730"
      ]
     },
     "execution_count": 9,
     "metadata": {},
     "output_type": "execute_result"
    }
   ],
   "source": [
    "df_payment_offer.head(4)"
   ]
  },
  {
   "cell_type": "markdown",
   "metadata": {},
   "source": [
    "# Quantity by gender\n",
    "\n",
    "#### Recupera la cantidad de usuarios, agrupado por género"
   ]
  },
  {
   "cell_type": "code",
   "execution_count": 31,
   "metadata": {},
   "outputs": [
    {
     "data": {
      "text/html": [
       "<div>\n",
       "<style scoped>\n",
       "    .dataframe tbody tr th:only-of-type {\n",
       "        vertical-align: middle;\n",
       "    }\n",
       "\n",
       "    .dataframe tbody tr th {\n",
       "        vertical-align: top;\n",
       "    }\n",
       "\n",
       "    .dataframe thead th {\n",
       "        text-align: right;\n",
       "    }\n",
       "</style>\n",
       "<table border=\"1\" class=\"dataframe\">\n",
       "  <thead>\n",
       "    <tr style=\"text-align: right;\">\n",
       "      <th></th>\n",
       "      <th>gender</th>\n",
       "    </tr>\n",
       "  </thead>\n",
       "  <tbody>\n",
       "    <tr>\n",
       "      <th>male</th>\n",
       "      <td>112945</td>\n",
       "    </tr>\n",
       "    <tr>\n",
       "      <th>unknown</th>\n",
       "      <td>76001</td>\n",
       "    </tr>\n",
       "    <tr>\n",
       "      <th>female</th>\n",
       "      <td>74490</td>\n",
       "    </tr>\n",
       "  </tbody>\n",
       "</table>\n",
       "</div>"
      ],
      "text/plain": [
       "         gender\n",
       "male     112945\n",
       "unknown   76001\n",
       "female    74490"
      ]
     },
     "execution_count": 31,
     "metadata": {},
     "output_type": "execute_result"
    }
   ],
   "source": [
    "quantity_gender = df_accounts_profile.gender.value_counts()\n",
    "quantity_gender = quantity_gender.to_frame()\n",
    "quantity_gender.rename(index={'m': 'male', 0: 'unknown', 'f': 'female'}, inplace=True)\n",
    "quantity_gender"
   ]
  },
  {
   "cell_type": "markdown",
   "metadata": {},
   "source": [
    "# Quantity by country\n",
    "\n",
    "#### Recupera la cantidad de usuarios, agrupado por país"
   ]
  },
  {
   "cell_type": "code",
   "execution_count": 11,
   "metadata": {},
   "outputs": [
    {
     "data": {
      "text/html": [
       "<div>\n",
       "<style scoped>\n",
       "    .dataframe tbody tr th:only-of-type {\n",
       "        vertical-align: middle;\n",
       "    }\n",
       "\n",
       "    .dataframe tbody tr th {\n",
       "        vertical-align: top;\n",
       "    }\n",
       "\n",
       "    .dataframe thead th {\n",
       "        text-align: right;\n",
       "    }\n",
       "</style>\n",
       "<table border=\"1\" class=\"dataframe\">\n",
       "  <thead>\n",
       "    <tr style=\"text-align: right;\">\n",
       "      <th></th>\n",
       "      <th>country_id</th>\n",
       "    </tr>\n",
       "  </thead>\n",
       "  <tbody>\n",
       "    <tr>\n",
       "      <th>1.0</th>\n",
       "      <td>169408</td>\n",
       "    </tr>\n",
       "    <tr>\n",
       "      <th>2.0</th>\n",
       "      <td>93910</td>\n",
       "    </tr>\n",
       "    <tr>\n",
       "      <th>0.0</th>\n",
       "      <td>118</td>\n",
       "    </tr>\n",
       "  </tbody>\n",
       "</table>\n",
       "</div>"
      ],
      "text/plain": [
       "     country_id\n",
       "1.0      169408\n",
       "2.0       93910\n",
       "0.0         118"
      ]
     },
     "execution_count": 11,
     "metadata": {},
     "output_type": "execute_result"
    }
   ],
   "source": [
    "quantity_country = df_accounts_profile.country_id.value_counts()\n",
    "quantity_country = quantity_country.to_frame()\n",
    "quantity_country"
   ]
  },
  {
   "cell_type": "markdown",
   "metadata": {},
   "source": [
    "# Quantity by employment_status\n",
    "\n",
    "#### Recupera la cantidad de usuarios, agrupado por employment_status"
   ]
  },
  {
   "cell_type": "code",
   "execution_count": 12,
   "metadata": {},
   "outputs": [
    {
     "data": {
      "text/html": [
       "<div>\n",
       "<style scoped>\n",
       "    .dataframe tbody tr th:only-of-type {\n",
       "        vertical-align: middle;\n",
       "    }\n",
       "\n",
       "    .dataframe tbody tr th {\n",
       "        vertical-align: top;\n",
       "    }\n",
       "\n",
       "    .dataframe thead th {\n",
       "        text-align: right;\n",
       "    }\n",
       "</style>\n",
       "<table border=\"1\" class=\"dataframe\">\n",
       "  <thead>\n",
       "    <tr style=\"text-align: right;\">\n",
       "      <th></th>\n",
       "      <th>employment_status</th>\n",
       "    </tr>\n",
       "  </thead>\n",
       "  <tbody>\n",
       "    <tr>\n",
       "      <th>unknown</th>\n",
       "      <td>119833</td>\n",
       "    </tr>\n",
       "    <tr>\n",
       "      <th>employed</th>\n",
       "      <td>39607</td>\n",
       "    </tr>\n",
       "    <tr>\n",
       "      <th>employer</th>\n",
       "      <td>8914</td>\n",
       "    </tr>\n",
       "    <tr>\n",
       "      <th>independent</th>\n",
       "      <td>3762</td>\n",
       "    </tr>\n",
       "    <tr>\n",
       "      <th>unemployed</th>\n",
       "      <td>1650</td>\n",
       "    </tr>\n",
       "    <tr>\n",
       "      <th>student</th>\n",
       "      <td>929</td>\n",
       "    </tr>\n",
       "    <tr>\n",
       "      <th>family</th>\n",
       "      <td>438</td>\n",
       "    </tr>\n",
       "    <tr>\n",
       "      <th>retired</th>\n",
       "      <td>382</td>\n",
       "    </tr>\n",
       "  </tbody>\n",
       "</table>\n",
       "</div>"
      ],
      "text/plain": [
       "             employment_status\n",
       "unknown                 119833\n",
       "employed                 39607\n",
       "employer                  8914\n",
       "independent               3762\n",
       "unemployed                1650\n",
       "student                    929\n",
       "family                     438\n",
       "retired                    382"
      ]
     },
     "execution_count": 12,
     "metadata": {},
     "output_type": "execute_result"
    }
   ],
   "source": [
    "quantity_employment = df_financial_profile.employment_status.value_counts()\n",
    "quantity_employment = quantity_employment.to_frame()\n",
    "quantity_employment.rename(index= {0: 'unknown'}, inplace=True)\n",
    "quantity_employment"
   ]
  },
  {
   "cell_type": "markdown",
   "metadata": {},
   "source": [
    "# Quantity by salary\n",
    "\n",
    "#### Recupera la cantidad de usuarios, agrupado por salary"
   ]
  },
  {
   "cell_type": "code",
   "execution_count": 13,
   "metadata": {},
   "outputs": [
    {
     "data": {
      "text/html": [
       "<div>\n",
       "<style scoped>\n",
       "    .dataframe tbody tr th:only-of-type {\n",
       "        vertical-align: middle;\n",
       "    }\n",
       "\n",
       "    .dataframe tbody tr th {\n",
       "        vertical-align: top;\n",
       "    }\n",
       "\n",
       "    .dataframe thead th {\n",
       "        text-align: right;\n",
       "    }\n",
       "</style>\n",
       "<table border=\"1\" class=\"dataframe\">\n",
       "  <thead>\n",
       "    <tr style=\"text-align: right;\">\n",
       "      <th></th>\n",
       "      <th>salary</th>\n",
       "    </tr>\n",
       "  </thead>\n",
       "  <tbody>\n",
       "    <tr>\n",
       "      <th>0.0</th>\n",
       "      <td>119833</td>\n",
       "    </tr>\n",
       "    <tr>\n",
       "      <th>4.0</th>\n",
       "      <td>18348</td>\n",
       "    </tr>\n",
       "    <tr>\n",
       "      <th>3.0</th>\n",
       "      <td>16352</td>\n",
       "    </tr>\n",
       "    <tr>\n",
       "      <th>5.0</th>\n",
       "      <td>8875</td>\n",
       "    </tr>\n",
       "    <tr>\n",
       "      <th>6.0</th>\n",
       "      <td>4553</td>\n",
       "    </tr>\n",
       "    <tr>\n",
       "      <th>2.0</th>\n",
       "      <td>4388</td>\n",
       "    </tr>\n",
       "    <tr>\n",
       "      <th>1.0</th>\n",
       "      <td>1197</td>\n",
       "    </tr>\n",
       "    <tr>\n",
       "      <th>7.0</th>\n",
       "      <td>1089</td>\n",
       "    </tr>\n",
       "    <tr>\n",
       "      <th>8.0</th>\n",
       "      <td>880</td>\n",
       "    </tr>\n",
       "  </tbody>\n",
       "</table>\n",
       "</div>"
      ],
      "text/plain": [
       "     salary\n",
       "0.0  119833\n",
       "4.0   18348\n",
       "3.0   16352\n",
       "5.0    8875\n",
       "6.0    4553\n",
       "2.0    4388\n",
       "1.0    1197\n",
       "7.0    1089\n",
       "8.0     880"
      ]
     },
     "execution_count": 13,
     "metadata": {},
     "output_type": "execute_result"
    }
   ],
   "source": [
    "quantity_salary = df_financial_profile.salary.value_counts()\n",
    "quantity_salary = quantity_salary.to_frame()\n",
    "quantity_salary"
   ]
  },
  {
   "cell_type": "markdown",
   "metadata": {},
   "source": [
    "# Most traded product\n",
    "\n",
    "#### Recupera la cantidad de productos mas transado"
   ]
  },
  {
   "cell_type": "code",
   "execution_count": 14,
   "metadata": {},
   "outputs": [
    {
     "name": "stdout",
     "output_type": "stream",
     "text": [
      "The most traded product is: total_payment which has been selected 7031 times\n"
     ]
    }
   ],
   "source": [
    "quantity_most_traded = df_payment_offer['product'].value_counts().max()\n",
    "product_most_traded = df_payment_offer['product'].mode()\n",
    "\n",
    "print('The most traded product is: {} which has been selected {} times'.format(product_most_traded[0],quantity_most_traded))"
   ]
  },
  {
   "cell_type": "markdown",
   "metadata": {},
   "source": [
    "# Adding field \"age\" in profile data\n",
    "\n",
    "#### Crear campo edad dentro de los datos del profile"
   ]
  },
  {
   "cell_type": "code",
   "execution_count": 15,
   "metadata": {},
   "outputs": [],
   "source": [
    "df_accounts_profile['birthday'] = pd.to_datetime(df_accounts_profile['birthday'], errors = 'coerce')"
   ]
  },
  {
   "cell_type": "code",
   "execution_count": 16,
   "metadata": {},
   "outputs": [],
   "source": [
    "today = datetime.date.today()\n",
    "\n",
    "df_accounts_profile['age'] = df_accounts_profile['birthday'].apply(\n",
    "    lambda x: today.year - x.year - \n",
    "    ((today.month, today.day) < (x.month, x.day)) \n",
    ")"
   ]
  },
  {
   "cell_type": "code",
   "execution_count": 17,
   "metadata": {},
   "outputs": [],
   "source": [
    "df_accounts_profile['age'].fillna(0, inplace=True)\n",
    "df_accounts_profile['age'] = df_accounts_profile['age'].astype(int)"
   ]
  },
  {
   "cell_type": "code",
   "execution_count": 18,
   "metadata": {},
   "outputs": [
    {
     "data": {
      "text/html": [
       "<div>\n",
       "<style scoped>\n",
       "    .dataframe tbody tr th:only-of-type {\n",
       "        vertical-align: middle;\n",
       "    }\n",
       "\n",
       "    .dataframe tbody tr th {\n",
       "        vertical-align: top;\n",
       "    }\n",
       "\n",
       "    .dataframe thead th {\n",
       "        text-align: right;\n",
       "    }\n",
       "</style>\n",
       "<table border=\"1\" class=\"dataframe\">\n",
       "  <thead>\n",
       "    <tr style=\"text-align: right;\">\n",
       "      <th></th>\n",
       "      <th>id</th>\n",
       "      <th>birthday</th>\n",
       "      <th>gender</th>\n",
       "      <th>country_id</th>\n",
       "      <th>date_joined</th>\n",
       "      <th>last_login</th>\n",
       "      <th>age</th>\n",
       "    </tr>\n",
       "  </thead>\n",
       "  <tbody>\n",
       "    <tr>\n",
       "      <th>0</th>\n",
       "      <td>3073478</td>\n",
       "      <td>1985-04-27</td>\n",
       "      <td>f</td>\n",
       "      <td>1.0</td>\n",
       "      <td>2018-10-06 20:48:00</td>\n",
       "      <td>2018-10-06 23:48:01</td>\n",
       "      <td>35</td>\n",
       "    </tr>\n",
       "    <tr>\n",
       "      <th>1</th>\n",
       "      <td>3073481</td>\n",
       "      <td>1970-01-01</td>\n",
       "      <td>0</td>\n",
       "      <td>2.0</td>\n",
       "      <td>2018-10-06 20:55:08</td>\n",
       "      <td>2018-10-07 11:57:43</td>\n",
       "      <td>51</td>\n",
       "    </tr>\n",
       "    <tr>\n",
       "      <th>2</th>\n",
       "      <td>3073484</td>\n",
       "      <td>1983-01-06</td>\n",
       "      <td>m</td>\n",
       "      <td>1.0</td>\n",
       "      <td>2018-10-06 20:55:20</td>\n",
       "      <td>2018-10-06 23:56:43</td>\n",
       "      <td>38</td>\n",
       "    </tr>\n",
       "    <tr>\n",
       "      <th>3</th>\n",
       "      <td>3073487</td>\n",
       "      <td>1991-09-07</td>\n",
       "      <td>m</td>\n",
       "      <td>1.0</td>\n",
       "      <td>2018-10-06 20:58:03</td>\n",
       "      <td>2018-10-06 23:58:03</td>\n",
       "      <td>29</td>\n",
       "    </tr>\n",
       "    <tr>\n",
       "      <th>4</th>\n",
       "      <td>3073490</td>\n",
       "      <td>1990-05-23</td>\n",
       "      <td>f</td>\n",
       "      <td>1.0</td>\n",
       "      <td>2018-10-06 21:03:19</td>\n",
       "      <td>2018-10-07 00:04:58</td>\n",
       "      <td>30</td>\n",
       "    </tr>\n",
       "  </tbody>\n",
       "</table>\n",
       "</div>"
      ],
      "text/plain": [
       "        id   birthday gender  country_id          date_joined  \\\n",
       "0  3073478 1985-04-27      f         1.0  2018-10-06 20:48:00   \n",
       "1  3073481 1970-01-01      0         2.0  2018-10-06 20:55:08   \n",
       "2  3073484 1983-01-06      m         1.0  2018-10-06 20:55:20   \n",
       "3  3073487 1991-09-07      m         1.0  2018-10-06 20:58:03   \n",
       "4  3073490 1990-05-23      f         1.0  2018-10-06 21:03:19   \n",
       "\n",
       "            last_login  age  \n",
       "0  2018-10-06 23:48:01   35  \n",
       "1  2018-10-07 11:57:43   51  \n",
       "2  2018-10-06 23:56:43   38  \n",
       "3  2018-10-06 23:58:03   29  \n",
       "4  2018-10-07 00:04:58   30  "
      ]
     },
     "execution_count": 18,
     "metadata": {},
     "output_type": "execute_result"
    }
   ],
   "source": [
    "df_accounts_profile.head(5)"
   ]
  },
  {
   "cell_type": "markdown",
   "metadata": {},
   "source": [
    "# Adding field \"age_range\" in profile data\n",
    "\n",
    "#### Crear campo de rango de edades dentro de los datos del profile \n",
    "#### (values = ('0-10', '10-20', '20-30', '30-40', '40-50', '50-60', '60-70', '70-80', '80-90'))"
   ]
  },
  {
   "cell_type": "code",
   "execution_count": 19,
   "metadata": {},
   "outputs": [],
   "source": [
    "df_accounts_profile['age_range'] = pd.cut(\n",
    "    x=df_accounts_profile['age'] , \n",
    "    bins=[0, 10, 20, 30, 40, 50, 60, 70, 80, 90], \n",
    "    labels=[\n",
    "        '0-10', \n",
    "        '10-20', \n",
    "        '20-30', \n",
    "        '30-40', \n",
    "        '40-50', \n",
    "        '50-60', \n",
    "        '60-70', \n",
    "        '70-80', \n",
    "        '80-90',\n",
    "    ], \n",
    "    right=False,\n",
    ")"
   ]
  },
  {
   "cell_type": "code",
   "execution_count": 20,
   "metadata": {},
   "outputs": [
    {
     "data": {
      "text/html": [
       "<div>\n",
       "<style scoped>\n",
       "    .dataframe tbody tr th:only-of-type {\n",
       "        vertical-align: middle;\n",
       "    }\n",
       "\n",
       "    .dataframe tbody tr th {\n",
       "        vertical-align: top;\n",
       "    }\n",
       "\n",
       "    .dataframe thead th {\n",
       "        text-align: right;\n",
       "    }\n",
       "</style>\n",
       "<table border=\"1\" class=\"dataframe\">\n",
       "  <thead>\n",
       "    <tr style=\"text-align: right;\">\n",
       "      <th></th>\n",
       "      <th>id</th>\n",
       "      <th>birthday</th>\n",
       "      <th>gender</th>\n",
       "      <th>country_id</th>\n",
       "      <th>date_joined</th>\n",
       "      <th>last_login</th>\n",
       "      <th>age</th>\n",
       "      <th>age_range</th>\n",
       "    </tr>\n",
       "  </thead>\n",
       "  <tbody>\n",
       "    <tr>\n",
       "      <th>0</th>\n",
       "      <td>3073478</td>\n",
       "      <td>1985-04-27</td>\n",
       "      <td>f</td>\n",
       "      <td>1.0</td>\n",
       "      <td>2018-10-06 20:48:00</td>\n",
       "      <td>2018-10-06 23:48:01</td>\n",
       "      <td>35</td>\n",
       "      <td>30-40</td>\n",
       "    </tr>\n",
       "    <tr>\n",
       "      <th>1</th>\n",
       "      <td>3073481</td>\n",
       "      <td>1970-01-01</td>\n",
       "      <td>0</td>\n",
       "      <td>2.0</td>\n",
       "      <td>2018-10-06 20:55:08</td>\n",
       "      <td>2018-10-07 11:57:43</td>\n",
       "      <td>51</td>\n",
       "      <td>50-60</td>\n",
       "    </tr>\n",
       "    <tr>\n",
       "      <th>2</th>\n",
       "      <td>3073484</td>\n",
       "      <td>1983-01-06</td>\n",
       "      <td>m</td>\n",
       "      <td>1.0</td>\n",
       "      <td>2018-10-06 20:55:20</td>\n",
       "      <td>2018-10-06 23:56:43</td>\n",
       "      <td>38</td>\n",
       "      <td>30-40</td>\n",
       "    </tr>\n",
       "    <tr>\n",
       "      <th>3</th>\n",
       "      <td>3073487</td>\n",
       "      <td>1991-09-07</td>\n",
       "      <td>m</td>\n",
       "      <td>1.0</td>\n",
       "      <td>2018-10-06 20:58:03</td>\n",
       "      <td>2018-10-06 23:58:03</td>\n",
       "      <td>29</td>\n",
       "      <td>20-30</td>\n",
       "    </tr>\n",
       "    <tr>\n",
       "      <th>4</th>\n",
       "      <td>3073490</td>\n",
       "      <td>1990-05-23</td>\n",
       "      <td>f</td>\n",
       "      <td>1.0</td>\n",
       "      <td>2018-10-06 21:03:19</td>\n",
       "      <td>2018-10-07 00:04:58</td>\n",
       "      <td>30</td>\n",
       "      <td>30-40</td>\n",
       "    </tr>\n",
       "  </tbody>\n",
       "</table>\n",
       "</div>"
      ],
      "text/plain": [
       "        id   birthday gender  country_id          date_joined  \\\n",
       "0  3073478 1985-04-27      f         1.0  2018-10-06 20:48:00   \n",
       "1  3073481 1970-01-01      0         2.0  2018-10-06 20:55:08   \n",
       "2  3073484 1983-01-06      m         1.0  2018-10-06 20:55:20   \n",
       "3  3073487 1991-09-07      m         1.0  2018-10-06 20:58:03   \n",
       "4  3073490 1990-05-23      f         1.0  2018-10-06 21:03:19   \n",
       "\n",
       "            last_login  age age_range  \n",
       "0  2018-10-06 23:48:01   35     30-40  \n",
       "1  2018-10-07 11:57:43   51     50-60  \n",
       "2  2018-10-06 23:56:43   38     30-40  \n",
       "3  2018-10-06 23:58:03   29     20-30  \n",
       "4  2018-10-07 00:04:58   30     30-40  "
      ]
     },
     "execution_count": 20,
     "metadata": {},
     "output_type": "execute_result"
    }
   ],
   "source": [
    "df_accounts_profile.head(5)"
   ]
  },
  {
   "cell_type": "markdown",
   "metadata": {},
   "source": [
    "# Creating df_quotation_account\n",
    "\n",
    "#### Unir tabla quotation y account"
   ]
  },
  {
   "cell_type": "code",
   "execution_count": 21,
   "metadata": {},
   "outputs": [],
   "source": [
    "df_quotation_account = pd.merge(\n",
    "    df_accounts_profile, \n",
    "    df_quotation_activity, \n",
    "    left_on='id', \n",
    "    right_on='user_id',\n",
    ")"
   ]
  },
  {
   "cell_type": "code",
   "execution_count": 22,
   "metadata": {},
   "outputs": [],
   "source": [
    "df_quotation_account.drop(\n",
    "    columns='id', \n",
    "    inplace=True,\n",
    ")"
   ]
  },
  {
   "cell_type": "code",
   "execution_count": 23,
   "metadata": {},
   "outputs": [
    {
     "data": {
      "text/html": [
       "<div>\n",
       "<style scoped>\n",
       "    .dataframe tbody tr th:only-of-type {\n",
       "        vertical-align: middle;\n",
       "    }\n",
       "\n",
       "    .dataframe tbody tr th {\n",
       "        vertical-align: top;\n",
       "    }\n",
       "\n",
       "    .dataframe thead th {\n",
       "        text-align: right;\n",
       "    }\n",
       "</style>\n",
       "<table border=\"1\" class=\"dataframe\">\n",
       "  <thead>\n",
       "    <tr style=\"text-align: right;\">\n",
       "      <th></th>\n",
       "      <th>birthday</th>\n",
       "      <th>gender</th>\n",
       "      <th>country_id</th>\n",
       "      <th>date_joined</th>\n",
       "      <th>last_login</th>\n",
       "      <th>age</th>\n",
       "      <th>age_range</th>\n",
       "      <th>user_id</th>\n",
       "      <th>product</th>\n",
       "      <th>created</th>\n",
       "    </tr>\n",
       "  </thead>\n",
       "  <tbody>\n",
       "    <tr>\n",
       "      <th>0</th>\n",
       "      <td>1992-09-12</td>\n",
       "      <td>m</td>\n",
       "      <td>2.0</td>\n",
       "      <td>2018-10-06 21:23:52</td>\n",
       "      <td>2018-11-06 00:22:12</td>\n",
       "      <td>28</td>\n",
       "      <td>20-30</td>\n",
       "      <td>3073529</td>\n",
       "      <td>116</td>\n",
       "      <td>2018-10-07 00:35:19</td>\n",
       "    </tr>\n",
       "    <tr>\n",
       "      <th>1</th>\n",
       "      <td>1988-08-06</td>\n",
       "      <td>m</td>\n",
       "      <td>2.0</td>\n",
       "      <td>2018-10-06 22:13:18</td>\n",
       "      <td>2018-10-07 01:13:19</td>\n",
       "      <td>32</td>\n",
       "      <td>30-40</td>\n",
       "      <td>3073586</td>\n",
       "      <td>58</td>\n",
       "      <td>2018-10-07 01:17:37</td>\n",
       "    </tr>\n",
       "    <tr>\n",
       "      <th>2</th>\n",
       "      <td>1993-04-08</td>\n",
       "      <td>f</td>\n",
       "      <td>1.0</td>\n",
       "      <td>2018-10-06 22:18:25</td>\n",
       "      <td>2018-10-10 13:10:02</td>\n",
       "      <td>27</td>\n",
       "      <td>20-30</td>\n",
       "      <td>3073595</td>\n",
       "      <td>99</td>\n",
       "      <td>2018-10-07 18:31:22</td>\n",
       "    </tr>\n",
       "    <tr>\n",
       "      <th>3</th>\n",
       "      <td>1992-10-23</td>\n",
       "      <td>f</td>\n",
       "      <td>2.0</td>\n",
       "      <td>2018-10-06 22:31:39</td>\n",
       "      <td>2019-02-01 20:48:47</td>\n",
       "      <td>28</td>\n",
       "      <td>20-30</td>\n",
       "      <td>3073604</td>\n",
       "      <td>58</td>\n",
       "      <td>2018-10-07 02:03:20</td>\n",
       "    </tr>\n",
       "    <tr>\n",
       "      <th>4</th>\n",
       "      <td>1974-02-04</td>\n",
       "      <td>f</td>\n",
       "      <td>2.0</td>\n",
       "      <td>2018-10-07 01:20:23</td>\n",
       "      <td>2018-10-07 04:29:14</td>\n",
       "      <td>46</td>\n",
       "      <td>40-50</td>\n",
       "      <td>3073658</td>\n",
       "      <td>58</td>\n",
       "      <td>2018-10-07 04:38:50</td>\n",
       "    </tr>\n",
       "  </tbody>\n",
       "</table>\n",
       "</div>"
      ],
      "text/plain": [
       "    birthday gender  country_id          date_joined           last_login  \\\n",
       "0 1992-09-12      m         2.0  2018-10-06 21:23:52  2018-11-06 00:22:12   \n",
       "1 1988-08-06      m         2.0  2018-10-06 22:13:18  2018-10-07 01:13:19   \n",
       "2 1993-04-08      f         1.0  2018-10-06 22:18:25  2018-10-10 13:10:02   \n",
       "3 1992-10-23      f         2.0  2018-10-06 22:31:39  2019-02-01 20:48:47   \n",
       "4 1974-02-04      f         2.0  2018-10-07 01:20:23  2018-10-07 04:29:14   \n",
       "\n",
       "   age age_range  user_id  product              created  \n",
       "0   28     20-30  3073529      116  2018-10-07 00:35:19  \n",
       "1   32     30-40  3073586       58  2018-10-07 01:17:37  \n",
       "2   27     20-30  3073595       99  2018-10-07 18:31:22  \n",
       "3   28     20-30  3073604       58  2018-10-07 02:03:20  \n",
       "4   46     40-50  3073658       58  2018-10-07 04:38:50  "
      ]
     },
     "execution_count": 23,
     "metadata": {},
     "output_type": "execute_result"
    }
   ],
   "source": [
    "df_quotation_account.head(5)"
   ]
  },
  {
   "cell_type": "markdown",
   "metadata": {},
   "source": [
    "# Creating df_qaf\n",
    "\n",
    "#### Unir tabla quotation, account y financial"
   ]
  },
  {
   "cell_type": "code",
   "execution_count": 24,
   "metadata": {},
   "outputs": [],
   "source": [
    "df_qaf =  pd.merge(\n",
    "    pd.merge(\n",
    "        df_accounts_profile,\n",
    "        df_quotation_activity,\n",
    "        left_on='id',\n",
    "        right_on='user_id'\n",
    "    ), \n",
    "    df_financial_profile, on='user_id',\n",
    ")"
   ]
  },
  {
   "cell_type": "code",
   "execution_count": 25,
   "metadata": {},
   "outputs": [],
   "source": [
    "df_qaf =  pd.merge(\n",
    "    df_quotation_account, \n",
    "    df_financial_profile, \n",
    "    on='user_id',\n",
    ")"
   ]
  },
  {
   "cell_type": "markdown",
   "metadata": {},
   "source": [
    "# Changing to datetime\n",
    "\n",
    "#### Cambiar el tipo de dato de created y date_joined a datetime."
   ]
  },
  {
   "cell_type": "code",
   "execution_count": 26,
   "metadata": {},
   "outputs": [],
   "source": [
    "df_qaf['date_joined'] = pd.to_datetime(\n",
    "    df_qaf['date_joined'], \n",
    "    errors='coerce',\n",
    ")\n",
    "\n",
    "df_qaf['created'] = pd.to_datetime(\n",
    "    df_qaf['created'], \n",
    "    errors='coerce',\n",
    ")"
   ]
  },
  {
   "cell_type": "code",
   "execution_count": 27,
   "metadata": {},
   "outputs": [
    {
     "data": {
      "text/plain": [
       "birthday                datetime64[ns]\n",
       "gender                          object\n",
       "country_id                     float64\n",
       "date_joined             datetime64[ns]\n",
       "last_login                      object\n",
       "age                              int64\n",
       "age_range                     category\n",
       "user_id                          int64\n",
       "product                          int64\n",
       "created                 datetime64[ns]\n",
       "salary                         float64\n",
       "seniority                        int64\n",
       "employment_status               object\n",
       "has_checking_account             int64\n",
       "entry                            int64\n",
       "dtype: object"
      ]
     },
     "execution_count": 27,
     "metadata": {},
     "output_type": "execute_result"
    }
   ],
   "source": [
    "df_qaf.dtypes"
   ]
  },
  {
   "cell_type": "markdown",
   "metadata": {},
   "source": [
    "# Creating report\n",
    "\n",
    "#### Generar un csv con la siguiente información:\n",
    "#### user_id, ege, age_range, genger, country_id, date_joined, last_login, salary, seniority, product, created"
   ]
  },
  {
   "cell_type": "code",
   "execution_count": 28,
   "metadata": {},
   "outputs": [],
   "source": [
    "array_report = [\n",
    "                'user_id', \n",
    "                'age', \n",
    "                'age_range', \n",
    "                'gender', \n",
    "                'country_id', \n",
    "                'date_joined', \n",
    "                'last_login', \n",
    "                'salary', \n",
    "                'seniority', \n",
    "                'product', \n",
    "                'created'\n",
    "]\n",
    "df_report = df_qaf[array_report]"
   ]
  },
  {
   "cell_type": "code",
   "execution_count": 29,
   "metadata": {},
   "outputs": [
    {
     "data": {
      "text/html": [
       "<div>\n",
       "<style scoped>\n",
       "    .dataframe tbody tr th:only-of-type {\n",
       "        vertical-align: middle;\n",
       "    }\n",
       "\n",
       "    .dataframe tbody tr th {\n",
       "        vertical-align: top;\n",
       "    }\n",
       "\n",
       "    .dataframe thead th {\n",
       "        text-align: right;\n",
       "    }\n",
       "</style>\n",
       "<table border=\"1\" class=\"dataframe\">\n",
       "  <thead>\n",
       "    <tr style=\"text-align: right;\">\n",
       "      <th></th>\n",
       "      <th>user_id</th>\n",
       "      <th>age</th>\n",
       "      <th>age_range</th>\n",
       "      <th>gender</th>\n",
       "      <th>country_id</th>\n",
       "      <th>date_joined</th>\n",
       "      <th>last_login</th>\n",
       "      <th>salary</th>\n",
       "      <th>seniority</th>\n",
       "      <th>product</th>\n",
       "      <th>created</th>\n",
       "    </tr>\n",
       "  </thead>\n",
       "  <tbody>\n",
       "    <tr>\n",
       "      <th>0</th>\n",
       "      <td>3073529</td>\n",
       "      <td>28</td>\n",
       "      <td>20-30</td>\n",
       "      <td>m</td>\n",
       "      <td>2.0</td>\n",
       "      <td>2018-10-06 21:23:52</td>\n",
       "      <td>2018-11-06 00:22:12</td>\n",
       "      <td>3.0</td>\n",
       "      <td>5</td>\n",
       "      <td>116</td>\n",
       "      <td>2018-10-07 00:35:19</td>\n",
       "    </tr>\n",
       "    <tr>\n",
       "      <th>1</th>\n",
       "      <td>3073586</td>\n",
       "      <td>32</td>\n",
       "      <td>30-40</td>\n",
       "      <td>m</td>\n",
       "      <td>2.0</td>\n",
       "      <td>2018-10-06 22:13:18</td>\n",
       "      <td>2018-10-07 01:13:19</td>\n",
       "      <td>4.0</td>\n",
       "      <td>1</td>\n",
       "      <td>58</td>\n",
       "      <td>2018-10-07 01:17:37</td>\n",
       "    </tr>\n",
       "    <tr>\n",
       "      <th>2</th>\n",
       "      <td>3073595</td>\n",
       "      <td>27</td>\n",
       "      <td>20-30</td>\n",
       "      <td>f</td>\n",
       "      <td>1.0</td>\n",
       "      <td>2018-10-06 22:18:25</td>\n",
       "      <td>2018-10-10 13:10:02</td>\n",
       "      <td>3.0</td>\n",
       "      <td>0</td>\n",
       "      <td>99</td>\n",
       "      <td>2018-10-07 18:31:22</td>\n",
       "    </tr>\n",
       "    <tr>\n",
       "      <th>3</th>\n",
       "      <td>3073604</td>\n",
       "      <td>28</td>\n",
       "      <td>20-30</td>\n",
       "      <td>f</td>\n",
       "      <td>2.0</td>\n",
       "      <td>2018-10-06 22:31:39</td>\n",
       "      <td>2019-02-01 20:48:47</td>\n",
       "      <td>2.0</td>\n",
       "      <td>1</td>\n",
       "      <td>58</td>\n",
       "      <td>2018-10-07 02:03:20</td>\n",
       "    </tr>\n",
       "    <tr>\n",
       "      <th>4</th>\n",
       "      <td>3073658</td>\n",
       "      <td>46</td>\n",
       "      <td>40-50</td>\n",
       "      <td>f</td>\n",
       "      <td>2.0</td>\n",
       "      <td>2018-10-07 01:20:23</td>\n",
       "      <td>2018-10-07 04:29:14</td>\n",
       "      <td>3.0</td>\n",
       "      <td>1</td>\n",
       "      <td>58</td>\n",
       "      <td>2018-10-07 04:38:50</td>\n",
       "    </tr>\n",
       "  </tbody>\n",
       "</table>\n",
       "</div>"
      ],
      "text/plain": [
       "   user_id  age age_range gender  country_id         date_joined  \\\n",
       "0  3073529   28     20-30      m         2.0 2018-10-06 21:23:52   \n",
       "1  3073586   32     30-40      m         2.0 2018-10-06 22:13:18   \n",
       "2  3073595   27     20-30      f         1.0 2018-10-06 22:18:25   \n",
       "3  3073604   28     20-30      f         2.0 2018-10-06 22:31:39   \n",
       "4  3073658   46     40-50      f         2.0 2018-10-07 01:20:23   \n",
       "\n",
       "            last_login  salary  seniority  product             created  \n",
       "0  2018-11-06 00:22:12     3.0          5      116 2018-10-07 00:35:19  \n",
       "1  2018-10-07 01:13:19     4.0          1       58 2018-10-07 01:17:37  \n",
       "2  2018-10-10 13:10:02     3.0          0       99 2018-10-07 18:31:22  \n",
       "3  2019-02-01 20:48:47     2.0          1       58 2018-10-07 02:03:20  \n",
       "4  2018-10-07 04:29:14     3.0          1       58 2018-10-07 04:38:50  "
      ]
     },
     "execution_count": 29,
     "metadata": {},
     "output_type": "execute_result"
    }
   ],
   "source": [
    "df_report.head(5)"
   ]
  },
  {
   "cell_type": "code",
   "execution_count": 30,
   "metadata": {},
   "outputs": [],
   "source": [
    "df_report.to_csv('/Users/texiagonzalezcaceres/Desktop/test_destacame/df_report.csv')"
   ]
  },
  {
   "cell_type": "code",
   "execution_count": null,
   "metadata": {},
   "outputs": [],
   "source": []
  }
 ],
 "metadata": {
  "kernelspec": {
   "display_name": "Python 3",
   "language": "python",
   "name": "python3"
  },
  "language_info": {
   "codemirror_mode": {
    "name": "ipython",
    "version": 3
   },
   "file_extension": ".py",
   "mimetype": "text/x-python",
   "name": "python",
   "nbconvert_exporter": "python",
   "pygments_lexer": "ipython3",
   "version": "3.8.5"
  }
 },
 "nbformat": 4,
 "nbformat_minor": 4
}
